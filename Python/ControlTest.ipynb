{
 "cells": [
  {
   "cell_type": "markdown",
   "metadata": {},
   "source": [
    "### Tests\n",
    "\n",
    "I am using this notebook to test server.py and communication Unity<->Server<->Future OpenAI Gym"
   ]
  },
  {
   "cell_type": "code",
   "execution_count": null,
   "metadata": {},
   "outputs": [],
   "source": [
    "import socket\n",
    "import json\n",
    "from time import sleep\n"
   ]
  },
  {
   "cell_type": "code",
   "execution_count": null,
   "metadata": {},
   "outputs": [],
   "source": [
    "HOST = 'localhost'\n",
    "PORT = 65432"
   ]
  },
  {
   "cell_type": "code",
   "execution_count": null,
   "metadata": {},
   "outputs": [],
   "source": [
    "class UnityClient:    \n",
    "    def __init__(self):\n",
    "        self.sock = socket.socket()  \n",
    "        self.sock.connect((HOST, PORT))\n",
    "        \n",
    "        self.request = None\n",
    "        self.response = None\n",
    "            \n",
    "    def move(self, objectId, x, y, z):\n",
    "\n",
    "        if self.request is not None:\n",
    "            print (\"Cannot accept request, still waiting for response\")\n",
    "            return \n",
    "        \n",
    "        data = {\n",
    "            'boxId' : objectId,\n",
    "            'x' : x,\n",
    "            'y' : y,\n",
    "            'z' : y,\n",
    "            'rotation' : 0,\n",
    "        }    \n",
    "        data = {\n",
    "            'mode' : 'setAction',\n",
    "            'action' : json.dumps(data)\n",
    "        }\n",
    "        \n",
    "        msg = json.dumps(data)\n",
    "        self.request = msg\n",
    "        msg = str.encode(msg)        \n",
    "        self.sock.send(msg)\n",
    "\n",
    "    def readState(self):\n",
    "        data = 'None'\n",
    "        \n",
    "        while data == 'None':\n",
    "            sleep(0.01)\n",
    "            url = '{\"mode\":\"getResponse\"}' \n",
    "            self.sock.send(url.encode())\n",
    "            data = self.sock.recv(16184).decode(\"utf-8\")\n",
    "            #print (data)\n",
    "        self.response = data\n",
    "        return data\n",
    "    \n",
    "    def moveAndGetState(self, objectId, x, y, z):\n",
    "        self.move(objectId, x, y, z)\n",
    "        return self.readState()\n",
    "    \n",
    "      \n"
   ]
  },
  {
   "cell_type": "code",
   "execution_count": null,
   "metadata": {},
   "outputs": [],
   "source": [
    "uc = UnityClient()\n",
    "state = uc.moveAndGetState(0, 5, 5, 5)\n",
    "state"
   ]
  },
  {
   "cell_type": "code",
   "execution_count": null,
   "metadata": {},
   "outputs": [],
   "source": []
  }
 ],
 "metadata": {
  "kernelspec": {
   "display_name": "Python 3.9.12 ('base')",
   "language": "python",
   "name": "python3"
  },
  "language_info": {
   "codemirror_mode": {
    "name": "ipython",
    "version": 3
   },
   "file_extension": ".py",
   "mimetype": "text/x-python",
   "name": "python",
   "nbconvert_exporter": "python",
   "pygments_lexer": "ipython3",
   "version": "3.9.12"
  },
  "orig_nbformat": 4,
  "vscode": {
   "interpreter": {
    "hash": "b6ce0ec6c1f5e48bbe692b320f6799235b14ff895b69b3633bda3157e9f0e673"
   }
  }
 },
 "nbformat": 4,
 "nbformat_minor": 2
}
